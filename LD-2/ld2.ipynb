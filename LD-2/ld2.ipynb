{
 "cells": [
  {
   "cell_type": "code",
   "execution_count": 1,
   "id": "2c25b95f",
   "metadata": {},
   "outputs": [
    {
     "data": {
      "text/html": [
       "\n",
       "            <div>\n",
       "                <p><b>SparkSession - in-memory</b></p>\n",
       "                \n",
       "        <div>\n",
       "            <p><b>SparkContext</b></p>\n",
       "\n",
       "            <p><a href=\"http://EivinasLPT:4041\">Spark UI</a></p>\n",
       "\n",
       "            <dl>\n",
       "              <dt>Version</dt>\n",
       "                <dd><code>v3.5.5</code></dd>\n",
       "              <dt>Master</dt>\n",
       "                <dd><code>local[*]</code></dd>\n",
       "              <dt>AppName</dt>\n",
       "                <dd><code>DDA LD2</code></dd>\n",
       "            </dl>\n",
       "        </div>\n",
       "        \n",
       "            </div>\n",
       "        "
      ],
      "text/plain": [
       "<pyspark.sql.session.SparkSession at 0x1400281aca0>"
      ]
     },
     "execution_count": 1,
     "metadata": {},
     "output_type": "execute_result"
    }
   ],
   "source": [
    "from pyspark.sql import SparkSession\n",
    "import os\n",
    "\n",
    "# Aplinkos paruošimas\n",
    "os.environ[\"PYSPARK_PYTHON\"] = r\"C:\\Users\\Eivinas\\DDA\\ld2\\venv\\Scripts\\python.exe\"\n",
    "os.environ[\"PYSPARK_DRIVER_PYTHON\"] = r\"C:\\Users\\Eivinas\\DDA\\ld2\\venv\\Scripts\\python.exe\"\n",
    "\n",
    "spark = SparkSession.builder \\\n",
    "    .appName(\"DDA LD2\") \\\n",
    "    .master(\"local[*]\") \\\n",
    "    .config(\"spark.driver.memory\", \"4g\") \\\n",
    "    .config(\"spark.local.dir\", \"C:/tmp/spark-temp\") \\\n",
    "    .getOrCreate()\n",
    "\n",
    "sc = spark.sparkContext\n",
    "\n",
    "# Patikriname ar veikia\n",
    "spark"
   ]
  },
  {
   "cell_type": "code",
   "execution_count": 2,
   "id": "d60aae1f",
   "metadata": {},
   "outputs": [],
   "source": [
    "# Pagalbinės funkcijos\n",
    "def parse_line(line):\n",
    "    entries = line.strip().split(\"{{\")\n",
    "    all_entries = []\n",
    "    for entry in entries:\n",
    "        entry_dict = {}\n",
    "        if len(entry) == 0: continue\n",
    "        for field in entry.split(\"}{\"):\n",
    "            field = field.strip(\"}\")\n",
    "            print(field)\n",
    "            key, value = field.split(\"=\")\n",
    "            if not key or not value: continue\n",
    "            entry_dict[key.strip()] = value.strip()\n",
    "        all_entries.append(entry_dict)\n",
    "    return all_entries\n",
    "\n",
    "# Pirmam uždaviniui\n",
    "def calculate_weight_group(weights):\n",
    "    weights = list(weights)\n",
    "    return {\n",
    "        \"min\": min(weights),\n",
    "        \"max\": max(weights),\n",
    "        \"avg\": sum(weights) / len(weights) if weights else 0\n",
    "    }\n",
    "\n",
    "# Saugiai konvertuoti į bet kokį duomenų tipą \n",
    "def convert(val, type_name):\n",
    "    try:\n",
    "        return type_name(val)\n",
    "    except:\n",
    "        return None"
   ]
  },
  {
   "cell_type": "code",
   "execution_count": 3,
   "id": "9de851cd",
   "metadata": {},
   "outputs": [],
   "source": [
    "# Read file\n",
    "rdd = sc.textFile(\"duom_full.txt\")\n",
    "\n",
    "# Parse each line\n",
    "parsed_rdd = rdd.flatMap(parse_line)"
   ]
  },
  {
   "cell_type": "code",
   "execution_count": 4,
   "id": "3b083da7",
   "metadata": {},
   "outputs": [
    {
     "data": {
      "text/plain": [
       "[('<50', {'min': 0.0, 'max': 50.0, 'avg': 5.964402623894628}),\n",
       " ('>300', {'min': 300.05, 'max': 6896.65, 'avg': 759.2116686954745}),\n",
       " ('<300', {'min': 50.05, 'max': 300.0, 'avg': 110.03327885846451})]"
      ]
     },
     "execution_count": 4,
     "metadata": {},
     "output_type": "execute_result"
    }
   ],
   "source": [
    "# Pirmas uždavinys\n",
    "weights_rdd = parsed_rdd.map(lambda x: (x.get(\"svorio grupe\"), x.get(\"svoris\"))) \\\n",
    "    .filter(lambda x: x[0] is not None and x[1] is not None) \\\n",
    "    .map(lambda x: (x[0], convert(x[1], float)))\n",
    "\n",
    "results = weights_rdd.groupByKey().mapValues(calculate_weight_group).collect()\n",
    "results"
   ]
  },
  {
   "cell_type": "code",
   "execution_count": null,
   "id": "50b68b2f",
   "metadata": {},
   "outputs": [
    {
     "name": "stdout",
     "output_type": "stream",
     "text": [
      "Routes with 2+ zones: 396/424 93.40%\n"
     ]
    }
   ],
   "source": [
    "routes_rdd = parsed_rdd.map(lambda x: (x.get(\"marsrutas\"), x.get(\"geografine zona\")))\\\n",
    "    .filter(lambda x: x[0] is not None and x[1] is not None)\n",
    "\n",
    "total_routes = routes_rdd.map(lambda x: x[0]).distinct().count()\n",
    "\n",
    "route_by_zone = routes_rdd.groupByKey()\\\n",
    "    .filter(lambda x: len(set(x[1])) >= 2)\n",
    "\n",
    "routes_count = route_by_zone.count()\n",
    "print(f\"Routes with 2+ zones: {routes_count}/{total_routes} {routes_count/total_routes*100:.2f}%\")"
   ]
  },
  {
   "cell_type": "code",
   "execution_count": null,
   "id": "5c2d5567",
   "metadata": {},
   "outputs": [
    {
     "name": "stdout",
     "output_type": "stream",
     "text": [
      "Routes with 2+ zones on same day: 394/424 92.92%\n"
     ]
    }
   ],
   "source": [
    "routes_rdd = parsed_rdd.map(lambda x: ((x.get(\"marsrutas\"), x.get(\"sustojimo data\")), x.get(\"geografine zona\"))) \\\n",
    "    .filter(lambda x: x[0][0] is not None and x[0][1] is not None and x[1] is not None)\n",
    "\n",
    "multi_zone_route_days = routes_rdd.groupByKey().filter(lambda x: len(set(x[1])) >= 2)\n",
    "routes_with_multi_zone_days = multi_zone_route_days.map(lambda x: x[0][0]).distinct()\n",
    "\n",
    "num_routes = routes_with_multi_zone_days.count()\n",
    "print(f\"Routes with 2+ zones on same day: {num_routes}/{total_routes} {num_routes/total_routes*100:.2f}%\")"
   ]
  },
  {
   "cell_type": "code",
   "execution_count": null,
   "id": "04befd40",
   "metadata": {},
   "outputs": [
    {
     "name": "stdout",
     "output_type": "stream",
     "text": [
      "Zona\tDiena\tKlientai Siuntos\n",
      "Z1\t1\t41580\t86464\n",
      "Z1\t2\t60167\t123938\n",
      "Z1\t3\t62241\t126872\n",
      "Z1\t4\t48430\t98156\n",
      "Z1\t5\t45999\t88663\n",
      "Z1\t6\t797\t1754\n",
      "Z2\t1\t11751\t19525\n",
      "Z2\t2\t18499\t31377\n",
      "Z2\t3\t18545\t30715\n",
      "Z2\t4\t14190\t23727\n",
      "Z2\t5\t14027\t23883\n",
      "Z2\t6\t72\t136\n",
      "Z3\t1\t11002\t17149\n",
      "Z3\t2\t17184\t25642\n",
      "Z3\t3\t17246\t25785\n",
      "Z3\t4\t12887\t19499\n",
      "Z3\t5\t12304\t18423\n",
      "Z3\t6\t23\t26\n"
     ]
    }
   ],
   "source": [
    "zone_day = parsed_rdd.map(lambda x : (\n",
    "    (x.get(\"geografine zona\"), x.get('sustojimo savaites diena')),\n",
    "    (convert(x.get(\"siuntu skaicius\"), int), convert(x.get(\"Sustojimo klientu skaicius\"), int))\n",
    ")).filter(lambda x: None not in x[0] and None not in x[1])\n",
    "\n",
    "zone_day_sums = zone_day.reduceByKey(lambda a, b: (a[0] + b[0], a[1] + b[1]))\n",
    "zone_day_sums = zone_day_sums.sortByKey()\n",
    "\n",
    "results = zone_day_sums.collect()\n",
    "print(\"Zona\\tDiena\\tKlientai Siuntos\")\n",
    "for record in results:\n",
    "    (zone, day), (total_packages, total_clients) = record\n",
    "    print(f\"{zone}\\t{day}\\t{total_clients}\\t{total_packages}\")"
   ]
  },
  {
   "cell_type": "code",
   "execution_count": null,
   "id": "89cad4b6",
   "metadata": {},
   "outputs": [],
   "source": []
  }
 ],
 "metadata": {
  "kernelspec": {
   "display_name": "venv",
   "language": "python",
   "name": "python3"
  },
  "language_info": {
   "codemirror_mode": {
    "name": "ipython",
    "version": 3
   },
   "file_extension": ".py",
   "mimetype": "text/x-python",
   "name": "python",
   "nbconvert_exporter": "python",
   "pygments_lexer": "ipython3",
   "version": "3.9.12"
  }
 },
 "nbformat": 4,
 "nbformat_minor": 5
}
