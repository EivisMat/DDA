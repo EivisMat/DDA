{
 "cells": [
  {
   "cell_type": "code",
   "execution_count": 1,
   "id": "34ba913c",
   "metadata": {},
   "outputs": [],
   "source": [
    "from pyspark.sql import SparkSession\n",
    "import os\n",
    "import re\n",
    "\n",
    "# Aplinkos paruošimas\n",
    "os.environ[\"PYSPARK_PYTHON\"] = r\"C:\\Users\\Eivinas\\DDA\\ld2\\venv\\Scripts\\python.exe\"\n",
    "os.environ[\"PYSPARK_DRIVER_PYTHON\"] = r\"C:\\Users\\Eivinas\\DDA\\ld2\\venv\\Scripts\\python.exe\""
   ]
  },
  {
   "cell_type": "code",
   "execution_count": 2,
   "id": "f3123900",
   "metadata": {},
   "outputs": [
    {
     "data": {
      "text/html": [
       "\n",
       "            <div>\n",
       "                <p><b>SparkSession - in-memory</b></p>\n",
       "                \n",
       "        <div>\n",
       "            <p><b>SparkContext</b></p>\n",
       "\n",
       "            <p><a href=\"http://EivinasLPT:4042\">Spark UI</a></p>\n",
       "\n",
       "            <dl>\n",
       "              <dt>Version</dt>\n",
       "                <dd><code>v3.5.5</code></dd>\n",
       "              <dt>Master</dt>\n",
       "                <dd><code>local[*]</code></dd>\n",
       "              <dt>AppName</dt>\n",
       "                <dd><code>DDA LD2</code></dd>\n",
       "            </dl>\n",
       "        </div>\n",
       "        \n",
       "            </div>\n",
       "        "
      ],
      "text/plain": [
       "<pyspark.sql.session.SparkSession at 0x237ef0dca90>"
      ]
     },
     "execution_count": 2,
     "metadata": {},
     "output_type": "execute_result"
    }
   ],
   "source": [
    "spark = SparkSession.builder \\\n",
    "    .appName(\"DDA LD2\") \\\n",
    "    .master(\"local[*]\") \\\n",
    "    .config(\"spark.driver.memory\", \"4g\") \\\n",
    "    .config(\"spark.local.dir\", \"C:/tmp/spark-temp\") \\\n",
    "    .getOrCreate()\n",
    "\n",
    "sc = spark.sparkContext\n",
    "\n",
    "# Patikriname ar veikia\n",
    "spark"
   ]
  },
  {
   "cell_type": "code",
   "execution_count": 3,
   "id": "6da2a4a1",
   "metadata": {},
   "outputs": [],
   "source": [
    "# Funkcija skirta ištraukti įrašus iš teksto eilutės\n",
    "def parse_line(line):\n",
    "    entries = line.split(\"{{\")[1:]\n",
    "    parsed_entries = []\n",
    "    for entry in entries:\n",
    "        params = {param.split(\"=\")[0]:param.split(\"=\")[1].strip(\"}\") for param in entry.split(\"}{\")}\n",
    "        parsed_entries.append(params)\n",
    "    return parsed_entries\n",
    "\n",
    "# Funkcija skirta ištraukti konkrečius laukus iš įrašo\n",
    "# Čia:\n",
    "# - entry - įrašas\n",
    "# - group_by_fields - laukai, pagal kuriuos grupuojame\n",
    "# - value_fields - laukai, kuriuos grupuosime pagal group_by_fields\n",
    "# - value_casts - duomenų tipai, į kuriuos konvertuosime value_fields\n",
    "# pvz. value_casts = [int, float] konvertuos value_fields[0] į int ir value_fields[1] į float\n",
    "def extract(entry, group_by_fields, value_fields=None, value_casts=None):\n",
    "    if value_casts:\n",
    "        assert len(value_fields) == len(value_casts), \"value_fields and value_casts must have the same length\"\n",
    "    try:\n",
    "        # Gauti grupavimo laukus\n",
    "        group_key = tuple(entry[f] for f in group_by_fields)\n",
    "        if len(group_key) == 1:\n",
    "            group_key = group_key[0]\n",
    "\n",
    "        if value_fields is None:\n",
    "            return group_key  # Jei nėra value_fields, grąžiname tik grupavimo laukus\n",
    "\n",
    "        values = []\n",
    "        for i, field in enumerate(value_fields):\n",
    "            val = entry[field]\n",
    "            if value_casts:\n",
    "                val = value_casts[i](val)\n",
    "            values.append(val)\n",
    "\n",
    "        return (group_key, tuple(values))\n",
    "    except (KeyError, ValueError):\n",
    "        return None\n",
    "\n",
    "\n",
    "# Įkrauti ir apdoroti duomenis\n",
    "rdd = sc.textFile(\"duom_full.txt\")\n",
    "entries_rdd = rdd.flatMap(parse_line)"
   ]
  },
  {
   "cell_type": "code",
   "execution_count": 4,
   "id": "7a855f1a",
   "metadata": {},
   "outputs": [
    {
     "name": "stdout",
     "output_type": "stream",
     "text": [
      "Grupe            Min       Max       Vid\n",
      "----------------------------------------\n",
      "<50             0.00     50.00      5.96\n",
      ">300          300.05   6896.65    759.21\n",
      "<300           50.05    300.00    110.03\n"
     ]
    }
   ],
   "source": [
    "# Pirmas uždavinys\n",
    "\n",
    "# sg - svoris, grupe\n",
    "sg_rdd = entries_rdd.map(\n",
    "    lambda entry: extract(\n",
    "        entry,\n",
    "        group_by_fields=['svorio grupe'],\n",
    "        value_fields=['svoris'],\n",
    "        value_casts=[float]\n",
    "    )\n",
    ").filter(lambda x: x is not None).mapValues(lambda x: (x[0], 1, x[0], x[0]))\n",
    "\n",
    "reduced_rdd = sg_rdd.reduceByKey(\n",
    "    lambda a, b: (a[0] + b[0], a[1] + b[1], min(a[2], b[2]), max(a[3], b[3]))\n",
    ")\n",
    "\n",
    "stats_rdd = reduced_rdd.mapValues(lambda v: {\n",
    "    'avg': v[0] / v[1],\n",
    "    'min': v[2],\n",
    "    'max': v[3]\n",
    "})\n",
    "\n",
    "stats_results = stats_rdd.collect()\n",
    "\n",
    "print(f\"{'Grupe':<10}{'Min':>10}{'Max':>10}{'Vid':>10}\")\n",
    "print(\"-\" * 40)\n",
    "for group, stats in stats_results:\n",
    "    print(f\"{group:<10}{stats['min']:>10.2f}{stats['max']:>10.2f}{stats['avg']:>10.2f}\")"
   ]
  },
  {
   "cell_type": "code",
   "execution_count": 5,
   "id": "0c2f0480",
   "metadata": {},
   "outputs": [
    {
     "name": "stdout",
     "output_type": "stream",
     "text": [
      "Iš viso: 398/424 maršrutai | Procentas: 93.87%\n",
      "\n"
     ]
    }
   ],
   "source": [
    "# mz - maršrutas, zona\n",
    "mz_rdd = entries_rdd.map(\n",
    "    lambda entry: extract(\n",
    "        entry,\n",
    "        group_by_fields=['marsrutas'],\n",
    "        value_fields=['geografine zona']\n",
    "    )\n",
    ").filter(lambda x: x is not None)\n",
    "\n",
    "# Sugrupuojame pagal maršrutą ir surenkame zonas\n",
    "zones_by_route = mz_rdd.groupByKey().mapValues(lambda zones: set(zones))\n",
    "\n",
    "# Filtruojame maršrutus, kurie aplanko daugiau nei vieną zoną\n",
    "multi_zone_routes = zones_by_route.filter(lambda x: len(x[1]) > 1)\n",
    "\n",
    "# Suskaičiuojame procentą\n",
    "all_routes_count = zones_by_route.count()\n",
    "multi_zone_route_count = multi_zone_routes.count()\n",
    "multi_zone_percentage = (multi_zone_route_count / all_routes_count) * 100 if all_routes_count else 0\n",
    "\n",
    "print(f\"Iš viso: {multi_zone_route_count}/{all_routes_count} maršrutai | Procentas: {multi_zone_percentage:.2f}%\\n\")"
   ]
  },
  {
   "cell_type": "code",
   "execution_count": 6,
   "id": "46ddcd8d",
   "metadata": {},
   "outputs": [
    {
     "name": "stdout",
     "output_type": "stream",
     "text": [
      "Iš viso: 396/424 maršrutai | Procentas: 93.40%\n"
     ]
    }
   ],
   "source": [
    "# mdz - marsrutas, diena, zona\n",
    "mdz_rdd = entries_rdd.map(\n",
    "    lambda entry: extract(\n",
    "        entry,\n",
    "        group_by_fields=['marsrutas', 'sustojimo data'],\n",
    "        value_fields=['geografine zona']\n",
    "    )\n",
    ").filter(lambda x: x is not None)\n",
    "\n",
    "# Sugrupuojame pagal maršrutą ir datą, surenkame zonas\n",
    "zones_by_route_date = mdz_rdd.groupByKey().mapValues(lambda zones: set(zones))\n",
    "\n",
    "# Filtruojame maršrutus, kurie aplanko daugiau nei vieną zoną tą pačią dieną\n",
    "multi_zone_same_day = zones_by_route_date.filter(lambda x: len(x[1]) > 1)\n",
    "\n",
    "# Suskaičiuojame procentą\n",
    "multi_same_day_route_count = multi_zone_same_day.map(lambda x: x[0][0]).distinct().count()\n",
    "multi_same_day_percentage = (multi_same_day_route_count / all_routes_count) * 100\n",
    "\n",
    "print(f\"Iš viso: {multi_same_day_route_count}/{all_routes_count} maršrutai | Procentas: {multi_same_day_percentage:.2f}%\")"
   ]
  },
  {
   "cell_type": "code",
   "execution_count": 7,
   "id": "4932a2bc",
   "metadata": {},
   "outputs": [
    {
     "name": "stdout",
     "output_type": "stream",
     "text": [
      "Zona      Diena     Siuntu skaicius    Klientu skaicius\n",
      "-------------------------------------------------------\n",
      "              1                  19                  16\n",
      "              2                  13                  11\n",
      "              3                  15                  12\n",
      "              4                   7                   8\n",
      "              5                  10                   8\n",
      "Z1            1               86464               41580\n",
      "Z1            2              123938               60167\n",
      "Z1            3              126872               62241\n",
      "Z1            4               98156               48430\n",
      "Z1            5               88663               45999\n",
      "Z1            6                1754                 797\n",
      "Z2            1               19525               11751\n",
      "Z2            2               31377               18499\n",
      "Z2            3               30715               18545\n",
      "Z2            4               23727               14190\n",
      "Z2            5               23883               14027\n",
      "Z2            6                 136                  72\n",
      "Z3            1               17149               11002\n",
      "Z3            2               25642               17184\n",
      "Z3            3               25785               17246\n",
      "Z3            4               19499               12887\n",
      "Z3            5               18423               12304\n",
      "Z3            6                  26                  23\n"
     ]
    }
   ],
   "source": [
    "# skzd - siuntos, klientai, zonos, dienos\n",
    "skzd_rdd = entries_rdd.map(\n",
    "    lambda entry: extract(\n",
    "        entry,\n",
    "        group_by_fields=['geografine zona', 'sustojimo savaites diena'],\n",
    "        value_fields=['siuntu skaicius', 'Sustojimo klientu skaicius'],\n",
    "        value_casts=[int, int]\n",
    "    )\n",
    ").filter(lambda x: x is not None)\n",
    "\n",
    "summed_skzd_rdd = skzd_rdd.reduceByKey(\n",
    "    lambda a, b: (a[0] + b[0], a[1] + b[1])\n",
    ")\n",
    "\n",
    "skzd_results = summed_skzd_rdd.collect()\n",
    "\n",
    "skzd_results.sort(key=lambda x: (x[0], x[1]))\n",
    "\n",
    "print(f\"{'Zona':<10}{'Diena':>5}{'Siuntu skaicius':>20}{'Klientu skaicius':>20}\")\n",
    "print(\"-\" * 55)\n",
    "for (zone, weekday), (siuntos_sum, klientai_sum) in skzd_results:\n",
    "    print(f\"{zone:<10}{weekday:>5}{siuntos_sum:>20}{klientai_sum:>20}\")"
   ]
  },
  {
   "cell_type": "code",
   "execution_count": null,
   "id": "190ab849",
   "metadata": {},
   "outputs": [],
   "source": []
  }
 ],
 "metadata": {
  "kernelspec": {
   "display_name": "venv",
   "language": "python",
   "name": "python3"
  },
  "language_info": {
   "codemirror_mode": {
    "name": "ipython",
    "version": 3
   },
   "file_extension": ".py",
   "mimetype": "text/x-python",
   "name": "python",
   "nbconvert_exporter": "python",
   "pygments_lexer": "ipython3",
   "version": "3.9.12"
  }
 },
 "nbformat": 4,
 "nbformat_minor": 5
}
