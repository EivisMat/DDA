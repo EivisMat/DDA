{
 "cells": [
  {
   "cell_type": "code",
   "execution_count": null,
   "id": "6057bf2b",
   "metadata": {},
   "outputs": [],
   "source": [
    "from pyspark.sql import SparkSession\n",
    "from pyspark.sql.functions import col, sum as _sum, to_date, when, round, first\n",
    "from pyspark.ml.feature import VectorAssembler, StringIndexer, OneHotEncoder\n",
    "from pyspark.ml.regression import LinearRegression\n",
    "import os\n",
    "\n",
    "# Aplinkos paruošimas\n",
    "os.environ[\"PYSPARK_PYTHON\"] = r\"C:\\Users\\Eivinas\\DDA\\ld2\\venv\\Scripts\\python.exe\"\n",
    "os.environ[\"PYSPARK_DRIVER_PYTHON\"] = r\"C:\\Users\\Eivinas\\DDA\\ld2\\venv\\Scripts\\python.exe\"\n",
    "\n",
    "spark = SparkSession.builder \\\n",
    "    .appName(\"DDA LD3\") \\\n",
    "    .master(\"local[*]\") \\\n",
    "    .config(\"spark.driver.memory\", \"4g\") \\\n",
    "    .config(\"spark.local.dir\", \"C:/tmp/spark-temp\") \\\n",
    "    .getOrCreate()\n",
    "\n",
    "sc = spark.sparkContext\n",
    "\n",
    "# Patikriname ar veikia\n",
    "spark"
   ]
  },
  {
   "cell_type": "code",
   "execution_count": 3,
   "id": "46b5c865",
   "metadata": {},
   "outputs": [],
   "source": [
    "# Nuskaitome duomenis\n",
    "df = spark.read.option(\"header\", \"true\").option(\"inferSchema\", \"true\").csv(\"StructuredData.txt\")"
   ]
  },
  {
   "cell_type": "code",
   "execution_count": 4,
   "id": "f7bb091f",
   "metadata": {},
   "outputs": [],
   "source": [
    "# Pirmas uždavinys\n",
    "df = df.withColumn(\"kaina procentas\", col(\"kaina procentas\").cast(\"double\")) \\\n",
    "       .withColumn(\"kaina vienetais\", col(\"kaina vienetais\").cast(\"double\")) \\\n",
    "       .withColumn(\"siuntu skaicius\", col(\"siuntu skaicius\").cast(\"int\")) \\\n",
    "       .withColumn(\"svoris\", col(\"svoris\").cast(\"double\")) \\\n",
    "       .withColumn(\"sustojimo data\", to_date(col(\"sustojimo data\"), \"yyyy-MM-dd\"))\n"
   ]
  },
  {
   "cell_type": "code",
   "execution_count": 5,
   "id": "c5b08192",
   "metadata": {},
   "outputs": [],
   "source": [
    "aggregated = df.groupBy(\"marsrutas\", \"sustojimo data\").agg(\n",
    "    _sum(\"siuntu skaicius\").alias(\"bendras_siuntu_skaicius\"),\n",
    "    _sum(\"svoris\").alias(\"bendras_svoris\"),\n",
    "    _sum(\"kaina procentas\").alias(\"kaina_procentas_total\"),\n",
    "    _sum(\"kaina vienetais\").alias(\"kaina_vienetais_total\")\n",
    ")\n",
    "\n",
    "# Suskaičiuoti pilną kainą tada ir tik tada, kai kaina procentas ir kaina vienetais yra didesni už 0\n",
    "aggregated = aggregated.withColumn(\n",
    "    \"pilna_kaina\",\n",
    "    when((col(\"kaina_procentas_total\") > 0) & (col(\"kaina_vienetais_total\") > 0),\n",
    "         col(\"kaina_vienetais_total\") / col(\"kaina_procentas_total\"))\n",
    "    .otherwise(0)\n",
    ")\n"
   ]
  },
  {
   "cell_type": "code",
   "execution_count": 6,
   "id": "50041e87",
   "metadata": {},
   "outputs": [],
   "source": [
    "# Apskaičiuoti bendrąsias siuntų, svorio ir kainos sumas pagal maršrutą\n",
    "route_totals = aggregated.groupBy(\"marsrutas\").agg(\n",
    "    _sum(\"bendras_siuntu_skaicius\").alias(\"total_siuntos\"),\n",
    "    _sum(\"bendras_svoris\").alias(\"total_svoris\"),\n",
    "    round(_sum(\"pilna_kaina\"), 2).alias(\"total_kaina\")\n",
    ")\n"
   ]
  },
  {
   "cell_type": "code",
   "execution_count": 7,
   "id": "392a641c",
   "metadata": {},
   "outputs": [
    {
     "name": "stdout",
     "output_type": "stream",
     "text": [
      "Top 3 maršrutai pagal pilną kainą:\n",
      "+---------+-------------+------------------+-----------+\n",
      "|marsrutas|total_siuntos|      total_svoris|total_kaina|\n",
      "+---------+-------------+------------------+-----------+\n",
      "|       94|          663|        216402.237|    1752.48|\n",
      "|       69|         1881|135239.58100000003|    1662.88|\n",
      "|      814|         1075|23038.590000000004|    1586.58|\n",
      "+---------+-------------+------------------+-----------+\n",
      "\n",
      "Top 3 maršrutai pagal siuntų skaičių:\n",
      "+---------+-------------+------------------+-----------+\n",
      "|marsrutas|total_siuntos|      total_svoris|total_kaina|\n",
      "+---------+-------------+------------------+-----------+\n",
      "|      121|         7842|31708.965000000007|    1018.71|\n",
      "|      105|         7171|20034.024999999998|      868.1|\n",
      "|      232|         6938|          31679.47|    1102.17|\n",
      "+---------+-------------+------------------+-----------+\n",
      "\n",
      "Top 3 maršrutai pagal bendrą svorį:\n",
      "+---------+-------------+------------------+-----------+\n",
      "|marsrutas|total_siuntos|      total_svoris|total_kaina|\n",
      "+---------+-------------+------------------+-----------+\n",
      "|      292|         2679|221125.49300000005|    1408.51|\n",
      "|       94|          663|        216402.237|    1752.48|\n",
      "|      354|         1779|169299.03100000005|    1483.96|\n",
      "+---------+-------------+------------------+-----------+\n",
      "\n"
     ]
    }
   ],
   "source": [
    "top_by_kaina = route_totals.orderBy(col(\"total_kaina\").desc()).limit(3)\n",
    "top_by_siuntos = route_totals.orderBy(col(\"total_siuntos\").desc()).limit(3)\n",
    "top_by_svoris = route_totals.orderBy(col(\"total_svoris\").desc()).limit(3)\n",
    "\n",
    "print(\"Top 3 maršrutai pagal pilną kainą:\")\n",
    "top_by_kaina.show()\n",
    "\n",
    "print(\"Top 3 maršrutai pagal siuntų skaičių:\")\n",
    "top_by_siuntos.show()\n",
    "\n",
    "print(\"Top 3 maršrutai pagal bendrą svorį:\")\n",
    "top_by_svoris.show()\n"
   ]
  },
  {
   "cell_type": "code",
   "execution_count": 8,
   "id": "877c38ef",
   "metadata": {},
   "outputs": [],
   "source": [
    "# Antras uždavinys\n",
    "clean_df = aggregated.filter(\n",
    "    (col(\"bendras_siuntu_skaicius\") > 0) &\n",
    "    (col(\"bendras_svoris\") > 0) &\n",
    "    (col(\"pilna_kaina\") > 0)\n",
    ")"
   ]
  },
  {
   "cell_type": "code",
   "execution_count": 9,
   "id": "267882cb",
   "metadata": {},
   "outputs": [],
   "source": [
    "assembler = VectorAssembler(\n",
    "    inputCols=[\"bendras_siuntu_skaicius\", \"bendras_svoris\"],\n",
    "    outputCol=\"features\"\n",
    ")\n",
    "\n",
    "assembled = assembler.transform(clean_df).select(\"features\", \"pilna_kaina\")"
   ]
  },
  {
   "cell_type": "code",
   "execution_count": 10,
   "id": "d0238a75",
   "metadata": {},
   "outputs": [
    {
     "name": "stdout",
     "output_type": "stream",
     "text": [
      "Koeficientai: [0.055931357320565,0.004087852799717063]\n",
      "beta0: 25.801254176885177\n",
      "R^2: 0.2590\n",
      "RMSE: 12.9059\n"
     ]
    }
   ],
   "source": [
    "lr = LinearRegression(featuresCol=\"features\", labelCol=\"pilna_kaina\")\n",
    "lr_model = lr.fit(assembled)\n",
    "results = lr_model.evaluate(assembled)\n",
    "print(f\"Koeficientai: {lr_model.coefficients}\")\n",
    "print(f\"beta0: {lr_model.intercept}\")\n",
    "print(f\"R^2: {results.r2:.4f}\")\n",
    "print(f\"RMSE: {results.rootMeanSquaredError:.4f}\")"
   ]
  },
  {
   "cell_type": "code",
   "execution_count": 11,
   "id": "669a0f53",
   "metadata": {},
   "outputs": [],
   "source": [
    "# Trečias uždavinys\n",
    "geo = df.select(\"marsrutas\", \"sustojimo data\", \"geografine zona\") \\\n",
    "        .groupBy(\"marsrutas\", \"sustojimo data\") \\\n",
    "        .agg(first(\"geografine zona\").alias(\"geografine_zona\"))\n",
    "\n",
    "extended = aggregated.join(geo, on=[\"marsrutas\", \"sustojimo data\"])"
   ]
  },
  {
   "cell_type": "code",
   "execution_count": 12,
   "id": "4fd61850",
   "metadata": {},
   "outputs": [],
   "source": [
    "indexer = StringIndexer(inputCol=\"geografine_zona\", outputCol=\"geo_index\")\n",
    "encoder = OneHotEncoder(inputCols=[\"geo_index\"], outputCols=[\"geo_ohe\"])\n",
    "\n",
    "indexed = indexer.fit(extended).transform(extended)\n",
    "encoded = encoder.fit(indexed).transform(indexed)"
   ]
  },
  {
   "cell_type": "code",
   "execution_count": 13,
   "id": "75ef32e0",
   "metadata": {},
   "outputs": [],
   "source": [
    "assembler2 = VectorAssembler(\n",
    "    inputCols=[\"bendras_siuntu_skaicius\", \"bendras_svoris\", \"geo_ohe\"],\n",
    "    outputCol=\"features\"\n",
    ")\n",
    "assembled2 = assembler2.transform(encoded).select(\"features\", \"pilna_kaina\")\n"
   ]
  },
  {
   "cell_type": "code",
   "execution_count": 14,
   "id": "26ee1643",
   "metadata": {},
   "outputs": [
    {
     "name": "stdout",
     "output_type": "stream",
     "text": [
      "Koeficientai: [0.07495242839902258,0.004573756213904592,-10.312014393201618,-0.024153649450281]\n",
      "beta0: 29.463780323795586\n",
      "R^2: 0.3620\n",
      "RMSE: 12.0365\n"
     ]
    }
   ],
   "source": [
    "lr2 = LinearRegression(featuresCol=\"features\", labelCol=\"pilna_kaina\")\n",
    "model2 = lr2.fit(assembled2)\n",
    "results2 = model2.evaluate(assembled2)\n",
    "\n",
    "print(f\"Koeficientai: {model2.coefficients}\")\n",
    "print(f\"beta0: {model2.intercept}\")\n",
    "print(f\"R^2: {results2.r2:.4f}\")\n",
    "print(f\"RMSE: {results2.rootMeanSquaredError:.4f}\")"
   ]
  },
  {
   "cell_type": "code",
   "execution_count": 15,
   "id": "b4bab603",
   "metadata": {},
   "outputs": [
    {
     "name": "stdout",
     "output_type": "stream",
     "text": [
      "['Z1', 'Z3', 'Z2']\n"
     ]
    }
   ],
   "source": [
    "indexer = StringIndexer(inputCol=\"geografine zona\", outputCol=\"geo_index\")\n",
    "model = indexer.fit(df)\n",
    "print(model.labels)"
   ]
  }
 ],
 "metadata": {
  "kernelspec": {
   "display_name": "venv",
   "language": "python",
   "name": "python3"
  },
  "language_info": {
   "codemirror_mode": {
    "name": "ipython",
    "version": 3
   },
   "file_extension": ".py",
   "mimetype": "text/x-python",
   "name": "python",
   "nbconvert_exporter": "python",
   "pygments_lexer": "ipython3",
   "version": "3.9.12"
  }
 },
 "nbformat": 4,
 "nbformat_minor": 5
}
